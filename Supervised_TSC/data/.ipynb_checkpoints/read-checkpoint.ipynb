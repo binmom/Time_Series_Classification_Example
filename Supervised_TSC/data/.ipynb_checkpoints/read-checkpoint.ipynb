{
 "cells": [
  {
   "cell_type": "code",
   "execution_count": 16,
   "metadata": {},
   "outputs": [],
   "source": [
    "import numpy as np\n",
    "import csv\n",
    "import os"
   ]
  },
  {
   "cell_type": "code",
   "execution_count": 17,
   "metadata": {},
   "outputs": [
    {
     "data": {
      "text/plain": [
       "<_csv.reader at 0x7f3d02736208>"
      ]
     },
     "execution_count": 17,
     "metadata": {},
     "output_type": "execute_result"
    }
   ],
   "source": [
    "subject = 'Car'\n",
    "f = open(subject + '/' + subject + '_TEST.tsv', 'r', encoding='utf-8', newline='')\n",
    "wr = csv.reader(f, delimiter='\\t')\n",
    "# wr = csv.reader(f)\n",
    "wr"
   ]
  },
  {
   "cell_type": "code",
   "execution_count": 18,
   "metadata": {
    "scrolled": true
   },
   "outputs": [
    {
     "name": "stdout",
     "output_type": "stream",
     "text": [
      "578\n",
      "578\n",
      "578\n",
      "578\n",
      "578\n",
      "578\n",
      "578\n",
      "578\n",
      "578\n",
      "578\n",
      "578\n",
      "578\n",
      "578\n",
      "578\n",
      "578\n",
      "578\n",
      "578\n",
      "578\n",
      "578\n",
      "578\n",
      "578\n",
      "578\n",
      "578\n",
      "578\n",
      "578\n",
      "578\n",
      "578\n",
      "578\n",
      "578\n",
      "578\n",
      "578\n",
      "578\n",
      "578\n",
      "578\n",
      "578\n",
      "578\n",
      "578\n",
      "578\n",
      "578\n",
      "578\n",
      "578\n",
      "578\n",
      "578\n",
      "578\n",
      "578\n",
      "578\n",
      "578\n",
      "578\n",
      "578\n",
      "578\n",
      "578\n",
      "578\n",
      "578\n",
      "578\n",
      "578\n",
      "578\n",
      "578\n",
      "578\n",
      "578\n",
      "578\n"
     ]
    }
   ],
   "source": [
    "for row in wr:\n",
    "#     print(row)\n",
    "    print(len(row))"
   ]
  },
  {
   "cell_type": "code",
   "execution_count": null,
   "metadata": {},
   "outputs": [],
   "source": [
    "print(os.listdir())"
   ]
  },
  {
   "cell_type": "code",
   "execution_count": null,
   "metadata": {},
   "outputs": [],
   "source": []
  }
 ],
 "metadata": {
  "kernelspec": {
   "display_name": "Python 3",
   "language": "python",
   "name": "python3"
  },
  "language_info": {
   "codemirror_mode": {
    "name": "ipython",
    "version": 3
   },
   "file_extension": ".py",
   "mimetype": "text/x-python",
   "name": "python",
   "nbconvert_exporter": "python",
   "pygments_lexer": "ipython3",
   "version": "3.6.7"
  }
 },
 "nbformat": 4,
 "nbformat_minor": 2
}
